{
 "cells": [
  {
   "cell_type": "markdown",
   "metadata": {},
   "source": [
    "# Table of contents"
   ]
  },
  {
   "cell_type": "markdown",
   "metadata": {},
   "source": [
    "**Course instructor: **\n",
    "Ivan Oseledes\n",
    "\n",
    "** TAs:**\n",
    "Maxim Rakhuba, Evgeny Frolov, Alexander Fonarev, Daria Sushnikova, Denis Kolesnikov\n",
    "\n",
    "**List of projects:** [Link](list_of_projects.ipynb)"
   ]
  },
  {
   "cell_type": "markdown",
   "metadata": {},
   "source": [
    "| Week | Classes | Homework | Tests |\n",
    "|------|----------|----------|-------|\n",
    "|1| [Course Syllabus](lectures/lecture-0.ipynb), <br> [Python Crash Course](lectures/Python_crash_course.ipynb),<br> [Lecture 1 (PCA, ICA demos)](lectures/lec-1.ipynb)| [Problem set 1](psets/pset1.ipynb)| \n",
    "| | [Lecture 2 (Floating point, Vector norms, Stability)](lectures/lecture-2.ipynb),<br> [IPython Intro](lectures/IPython_Intro.ipynb)\n",
    "| | [Lecture 3.1 (Matrix multiplication part 1)](lectures/lecture-3.1.ipynb), <br> [Lecture 3.2 (Matrix norms, Scalar product, Unitary matrices)](lectures/lecture-3.2.ipynb), <br> [Python Intro](lectures/Python_Intro.ipynb)| \n",
    "|2| [Lecture 4 (Matrix-by-vector multiplication, FFT, fast convolution)](lectures/lecture-4.ipynb) | Problem set 2|\n",
    "| | [Lecture 5 (Matrix multiplication part 2: Strassen)](lectures/lecture-5.ipynb) <br> [Practice (Circulant matrix example)](lectures/practice_1.ipynb)|\n",
    "| | [Practice session](lectures/practice_session2.ipynb)\n",
    "|3| [Lecture 6 (Matrix, singular value decomposition)](lectures/lecture-6.ipynb)| Problem set 3|\n",
    "|4| || Mid-term test\n",
    "|5| | Problem set 4| \n",
    "|6| |\n",
    "|7| Ping-pong test\n",
    "|8| Application period"
   ]
  },
  {
   "cell_type": "code",
   "execution_count": null,
   "metadata": {
    "collapsed": true
   },
   "outputs": [],
   "source": []
  }
 ],
 "metadata": {
  "kernelspec": {
   "display_name": "Python 2",
   "language": "python",
   "name": "python2"
  },
  "language_info": {
   "codemirror_mode": {
    "name": "ipython",
    "version": 2
   },
   "file_extension": ".py",
   "mimetype": "text/x-python",
   "name": "python",
   "nbconvert_exporter": "python",
   "pygments_lexer": "ipython2",
   "version": "2.7.10"
  }
 },
 "nbformat": 4,
 "nbformat_minor": 0
}
