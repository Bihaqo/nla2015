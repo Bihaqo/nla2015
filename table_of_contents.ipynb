{
 "cells": [
  {
   "cell_type": "markdown",
   "metadata": {},
   "source": [
    "# Table of contents"
   ]
  },
  {
   "cell_type": "markdown",
   "metadata": {},
   "source": [
    "**Course instructor: **\n",
    "Ivan Oseledes\n",
    "\n",
    "** TAs:**\n",
    "Maxim Rakhuba, Evgeny Frolov, Alexander Fonarev, Daria Sushnikova, Denis Kolesnikov"
   ]
  },
  {
   "cell_type": "markdown",
   "metadata": {},
   "source": [
    "| Week | Classes | Homework | Tests |\n",
    "|------|----------|----------|-------|\n",
    "|1| [Course Syllabus](lectures/lecture-0.ipynb), [Python Crash Start](lectures/Python_crash_course.ipynb),<br> [Lecture 1 (PCA, ICA demos)](lectures/lec-1.ipynb)| [Problem set 1](psets/pset1.ipynb)| \n",
    "| | [Lecture 2 (Floating point, Vector norms, Stability)](lectures/lecture-2.ipynb),<br> [IPython Intro](lectures/IPython_Intro.ipynb)|\n",
    "| | [Lecture 3 (Matrix multiplication, matrix norms, scalar product)](lectures/lecture-3.ipynb) | \n",
    "|2| | Problem set 2|\n",
    "|3| | Problem set 3|\n",
    "|4|  || Mid-term test\n",
    "|5| | Problem set 4| \n",
    "|6| |\n",
    "|7| Ping-pong test\n",
    "|8| Application period"
   ]
  },
  {
   "cell_type": "code",
   "execution_count": null,
   "metadata": {
    "collapsed": true
   },
   "outputs": [],
   "source": []
  }
 ],
 "metadata": {
  "kernelspec": {
   "display_name": "Python 2",
   "language": "python",
   "name": "python2"
  },
  "language_info": {
   "codemirror_mode": {
    "name": "ipython",
    "version": 2
   },
   "file_extension": ".py",
   "mimetype": "text/x-python",
   "name": "python",
   "nbconvert_exporter": "python",
   "pygments_lexer": "ipython2",
   "version": "2.7.10"
  }
 },
 "nbformat": 4,
 "nbformat_minor": 0
}
