{
 "cells": [
  {
   "cell_type": "markdown",
   "metadata": {
    "slideshow": {
     "slide_type": "slide"
    }
   },
   "source": [
    "# Lecture 4: Matvec complexity, FFT, fast convolution"
   ]
  },
  {
   "cell_type": "markdown",
   "metadata": {
    "slideshow": {
     "slide_type": "slide"
    }
   },
   "source": [
    "## Matrix-by-vector multiplication (matvec)\n",
    "\n",
    "Multiplication of matrix $A$ of size $n\\times n$ by vector $x$ of size $n\\times 1$:\n",
    "$$\n",
    "y_{i} = \\sum_{i=1}^n a_{ij} x_j\n",
    "$$\n",
    "requires $n^2$ mutliplications and $n(n-1)$ additions. Thus, the overall complexity is $2n^2 - n =$ <font color='red'> $\\mathcal{O}(n^2)$ </font>."
   ]
  },
  {
   "cell_type": "markdown",
   "metadata": {
    "slideshow": {
     "slide_type": "slide"
    }
   },
   "source": [
    "## How bad is $\\mathcal{O}(n^2)$\n",
    "\n",
    "To understand how time-consuming $\\mathcal{O}(n^2)$ can be consider the following example.\n",
    "Let $A$ be the matrix of pairwise gravitational interaction between planets in a galaxy.\n",
    "The number of planets in an average galaxy is $10^{11}$, so the size of this matrix will be $10^{11} \\times 10^{11}$.\n",
    "To model evolution in time we have to multiply this matrix by vector at each time step.\n",
    "Top supercomputers do around $10^{16}$ floating point operations per second (flops), so the time to multiply matrix $A$ by vector will take approximately\n",
    "$$\n",
    "\\frac{(10^{11})^2 \\text{ operations}}{10^{16} \\text{ flops}} = 10^6 \\text{ sec} \\approx 11.5 \\text{ days} \n",
    "$$\n",
    "for one time step. If we could multiply it with $\\mathcal{O}(n)$ complexity, we would get\n",
    "$$\n",
    "\\frac{10^{11} \\text{ operations}}{10^{16} \\text{ flops}} = 10^{-5} \\text{ sec}\n",
    "$$\n",
    "instead. Fortunately, there is an algorithm to be $\\mathcal{O}(n)$ for this particular example.\n",
    "\n",
    "Here is the YouTube video that illustrates collision of two galaxisies which was modelled by $\\mathcal{O}(n)$ (or maybe $\\mathcal{O}(n \\log n)$) algorithm:"
   ]
  },
  {
   "cell_type": "code",
   "execution_count": 1,
   "metadata": {
    "collapsed": false,
    "slideshow": {
     "slide_type": "slide"
    }
   },
   "outputs": [
    {
     "data": {
      "text/html": [
       "\n",
       "        <iframe\n",
       "            width=\"400\"\n",
       "            height=\"300\"\n",
       "            src=\"https://www.youtube.com/embed/7HF5Oy8IMoM\"\n",
       "            frameborder=\"0\"\n",
       "            allowfullscreen\n",
       "        ></iframe>\n",
       "        "
      ],
      "text/plain": [
       "<IPython.lib.display.YouTubeVideo at 0x103c8c6d0>"
      ]
     },
     "execution_count": 1,
     "metadata": {},
     "output_type": "execute_result"
    }
   ],
   "source": [
    "from IPython.display import YouTubeVideo\n",
    "YouTubeVideo(\"7HF5Oy8IMoM\")"
   ]
  },
  {
   "cell_type": "markdown",
   "metadata": {
    "slideshow": {
     "slide_type": "-"
    }
   },
   "source": [
    "The question is can we be asymptotically faster for general matrix $A$?"
   ]
  },
  {
   "cell_type": "markdown",
   "metadata": {
    "slideshow": {
     "slide_type": "slide"
    }
   },
   "source": [
    "## Can we beat $\\mathcal{O}(n^2)$?\n",
    "\n",
    "Generally speaking no. The point is that we have $\\mathcal{O}(n^2)$ input data, so there is no way to be faster for general matrix.\n",
    "Fortunately, we can be faster <font color='red'>for certain types of matrices</font>.\n",
    "Here are some examples:\n",
    "\n",
    "* The simplest example may be matrix of all ones, which can be easily multiplied with only $n-1$ additions. This matrix is of rank one. More generally we can multiply fast by <font color='red'>low-rank </font> matrices (or that have low-rank blocks)\n",
    "\n",
    "* <font color='red'>Sparse</font> matrices (contain $\\mathcal{O}(n)$ nonzero elements)\n",
    "\n",
    "* <font color='red'>Structured</font> matrices (later this lecture):\n",
    "  * Fourier\n",
    "  * Circulant\n",
    "  * Toeplitz \n",
    "  * Hankel"
   ]
  },
  {
   "cell_type": "markdown",
   "metadata": {
    "slideshow": {
     "slide_type": "slide"
    }
   },
   "source": [
    "## Fourier matrix\n",
    "\n",
    "The Fourier matrix is defined as:\n",
    "$$\n",
    "    F_n =\n",
    "        \\begin{pmatrix}\n",
    "            1 & 1 & 1 & \\dots & 1 \\\\\n",
    "            1 & w^{1\\cdot 1}_n & w^{1\\cdot 2}_n & \\dots & w^{1\\cdot (n-1)}_n\\\\\n",
    "            1 & w^{2\\cdot 1}_n & w^{2\\cdot 2}_n & \\dots & w^{2\\cdot (n-1)}_n\\\\\n",
    "            \\dots & \\dots & \\dots &\\dots &\\dots \\\\\n",
    "            1 & w^{(n-1)\\cdot 1}_n & w^{(n-1)\\cdot 2}_n & \\dots & w^{(n-1)\\cdot (n-1)}_n\\\\\n",
    "        \\end{pmatrix},\n",
    "$$\n",
    "or equivalently\n",
    "$$\n",
    "    F_n = \\{ w_n^{kl} \\}_{k,l=0}^{n-1},\n",
    "$$\n",
    "where $$w_n = e^{-\\frac{2\\pi i}{n}}.$$"
   ]
  },
  {
   "cell_type": "markdown",
   "metadata": {
    "slideshow": {
     "slide_type": "slide"
    }
   },
   "source": [
    "**Properties:**\n",
    "* Symmetric (not Hermitian!)\n",
    "* Unitary up to the scaling factor: $F_n^* F_n = F_n F_n^* = nI$ (check this fact). Therefore $F_n^{-1} = \\frac{1}{n}F^*_n$\n",
    "* Can be multiplied by vector (called dicrete Fourier transform or DFT) with <font color='red'>$\\mathcal{O}(n \\log n)$</font> complexity (called fast Fourier transform or <font color='red'>FFT</font>)! FFT helps to analyze spectrum of a signal and, as we will see further, helps to do fast mutiplications with certain types of matrices."
   ]
  },
  {
   "cell_type": "code",
   "execution_count": 4,
   "metadata": {
    "collapsed": false,
    "slideshow": {
     "slide_type": "slide"
    }
   },
   "outputs": [
    {
     "data": {
      "text/plain": [
       "<matplotlib.text.Text at 0x10e1fea90>"
      ]
     },
     "execution_count": 4,
     "metadata": {},
     "output_type": "execute_result"
    },
    {
     "data": {
      "image/png": "[encoded data removed]",
      "text/plain": [
       "<matplotlib.figure.Figure at 0x1027b8710>"
      ]
     },
     "metadata": {},
     "output_type": "display_data"
    }
   ],
   "source": [
    "%matplotlib inline\n",
    "import matplotlib.pyplot as plt\n",
    "import numpy as np\n",
    "\n",
    "\n",
    "N = 10000\n",
    "dt = 1.0 / 800.0\n",
    "x = np.linspace(0.0, N*dt, N)\n",
    "y = np.sin(50.0 * 2.0*np.pi*x) + 0.5*np.sin(80.0 * 2.0*np.pi*x) + 0.2*np.sin(300.0 * 2.0*np.pi*x)\n",
    "plt.plot(x, y)\n",
    "plt.xlabel('Time')\n",
    "plt.ylabel('Signal')\n",
    "plt.title('Initial signal')"
   ]
  },
  {
   "cell_type": "code",
   "execution_count": 5,
   "metadata": {
    "collapsed": false,
    "slideshow": {
     "slide_type": "-"
    }
   },
   "outputs": [
    {
     "data": {
      "text/plain": [
       "<matplotlib.text.Text at 0x10e6482d0>"
      ]
     },
     "execution_count": 5,
     "metadata": {},
     "output_type": "execute_result"
    },
    {
     "data": {
      "image/png": "[encoded data removed]",
      "text/plain": [
       "<matplotlib.figure.Figure at 0x10e120b10>"
      ]
     },
     "metadata": {},
     "output_type": "display_data"
    }
   ],
   "source": [
    "yf = np.fft.fft(y)\n",
    "xf = np.linspace(0.0, 1.0/(2.0*dt), N/2)\n",
    "plt.plot(xf, 2.0/N * np.abs(yf[0:N/2])) #Note: N/2 to N will give negative frequencies\n",
    "plt.xlabel('Frequency')\n",
    "plt.ylabel('Amplitude')\n",
    "plt.title('Discrete Fourier transform')"
   ]
  },
  {
   "cell_type": "markdown",
   "metadata": {
    "slideshow": {
     "slide_type": "slide"
    }
   },
   "source": [
    "## Fast Fourier transform (FFT)\n",
    "Here we consider matrix interpretation of standard Cooley-Tukey algorithm (1965), which has underlying **divide and conquerer** idea. Note that in packages more advanced vesions are used.\n",
    "\n",
    "Let $n$ be a power of 2. First of all we <font color='red'>permute rows</font> of the Fourier matrix such that first $n/2$ rows of the new matrix had row numbers <font color='red'>$1,3,5,\\dots,n-1$</font> and last $n/2$ rows had row numbers <font color='red'>$2,4,6\\dots,n$</font>. \n",
    "This permutation can be expressed in terms of multiplication by permutation matrix $P_n$:\n",
    "$$\n",
    "P_n =\n",
    "        \\begin{pmatrix}\n",
    "           1 & 0 & 0 & 0 & \\dots & 0 & 0 \\\\\n",
    "           0 & 0 & 1 & 0 &\\dots & 0 & 0 \\\\\n",
    "           \\vdots & & & & & & \\vdots \\\\\n",
    "           0 & 0 & 0 & 0 &\\dots & 1 & 0 \\\\\n",
    "           \\hline\n",
    "           0 & 1 & 0 & 0 & \\dots & 0 & 0 \\\\\n",
    "           0 & 0 & 0 & 1 &\\dots & 0 & 0 \\\\\n",
    "           \\vdots & & & & & & \\vdots \\\\\n",
    "           0 & 0 & 0 & 0 &\\dots & 0 & 1 \n",
    "        \\end{pmatrix},\n",
    "$$"
   ]
  },
  {
   "cell_type": "markdown",
   "metadata": {
    "slideshow": {
     "slide_type": "slide"
    }
   },
   "source": [
    "Hence,\n",
    "$$\n",
    "P_n F_n =\n",
    "        \\begin{pmatrix}\n",
    "            1 & 1 & 1 & \\dots & 1 \\\\\n",
    "            1 & w^{2\\cdot 1}_n & w^{2\\cdot 2}_n & \\dots & w^{2\\cdot (n-1)}_n\\\\\n",
    "            1 & w^{4\\cdot 1}_n & w^{4\\cdot 2}_n & \\dots & w^{4\\cdot (n-1)}_n\\\\\n",
    "            \\vdots & & & & \\vdots\\\\\n",
    "            1 & w^{(n-2)\\cdot 1}_n & w^{(n-2)\\cdot 2}_n & \\dots & w^{(n-2)\\cdot (n-1)}_n\\\\\n",
    "            \\hline\n",
    "            1 & w^{1\\cdot 1}_n & w^{1\\cdot 2}_n & \\dots & w^{1\\cdot (n-1)}_n\\\\\n",
    "            1 & w^{3\\cdot 1}_n & w^{3\\cdot 2}_n & \\dots & w^{3\\cdot (n-1)}_n\\\\           \n",
    "            \\vdots & & & & \\vdots\\\\\n",
    "            1 & w^{(n-1)\\cdot 1}_n & w^{(n-1)\\cdot 2}_n & \\dots & w^{(n-1)\\cdot (n-1)}_n\\\\\n",
    "        \\end{pmatrix},\n",
    "$$\n",
    "Now let us imagine that we separated its columns and rows by two parts each of size $n/2$."
   ]
  },
  {
   "cell_type": "markdown",
   "metadata": {
    "slideshow": {
     "slide_type": "slide"
    }
   },
   "source": [
    "As a result we get <font color='red'>$2\\times 2$ block matrix</font> that has the following form\n",
    "$$\n",
    "P_n F_n =\n",
    "    \\begin{pmatrix}\n",
    "    \\left\\{w^{2kl}_n\\right\\} & \\left\\{w_n^{2k\\left(\\frac{n}{2} + l\\right)}\\right\\} \\\\\n",
    "    \\left\\{w_n^{(2k+1)l}\\right\\} & \\left\\{w_n^{(2k+1)\\left(\\frac{n}{2} + l\\right)}\\right\\}\n",
    "    \\end{pmatrix},\n",
    "\\quad k,l = 0,\\dots, \\frac{n}{2}-1.\n",
    "$$\n",
    "So far it does not look like something that works faster :) But we will see that in a minute.\n",
    "Lets have a more precise look at the first block $\\left\\{w^{2kl}_n\\right\\}$:\n",
    "$$\n",
    "w^{2kl}_n = e^{-2kl\\frac{2\\pi i}{n}} = e^{-kl\\frac{2\\pi i}{n/2}} = w^{kl}_{n/2}.\n",
    "$$\n",
    "So this block is exactly twice smaller Fourier matrix $F_{n/2}$!\n",
    "\n",
    "<!---\n",
    "Now we can write\n",
    "$$\n",
    "\\begin{pmatrix}\n",
    "    F_{n/2} & \\left\\{w_n^{2k\\left(\\frac{n}{2} + l\\right)}\\right\\} \\\\\n",
    "    \\left\\{w_n^{(2k+1)l}\\right\\} & \\left\\{w_n^{(2k+1)\\left(\\frac{n}{2} + l\\right)}\\right\\}\n",
    "\\end{pmatrix}\n",
    "$$\n",
    "-->\n",
    "The block $\\left\\{w_n^{(2k+1)l}\\right\\}$ can be written as\n",
    "$$\n",
    "w_n^{(2k+1)l} = w_n^{2kl + l} = w_n^{l} w_n^{2kl} = w_n^{l} w_{n/2}^{kl},\n",
    "$$\n",
    "which can be written as $W_{n/2}F_{n/2}$, where $$W_{n/2} = \\text{diag}(1,w_n,w_n^2,\\dots,w_n^{n/2-1}).$$"
   ]
  },
  {
   "cell_type": "markdown",
   "metadata": {
    "slideshow": {
     "slide_type": "slide"
    }
   },
   "source": [
    "Doing same tricks for other blocks we will finally get\n",
    "$$\n",
    "P_n F_n =\n",
    "\\begin{pmatrix}\n",
    "    F_{n/2} & F_{n/2} \\\\\n",
    "    F_{n/2}W_{n/2} & -F_{n/2}W_{n/2}\n",
    "\\end{pmatrix}\n",
    "=\n",
    "\\begin{pmatrix}\n",
    "    F_{n/2} & 0 \\\\\n",
    "    0 & F_{n/2}\n",
    "\\end{pmatrix}\n",
    "\\begin{pmatrix}\n",
    "    I_{n/2} & I_{n/2} \\\\\n",
    "    W_{n/2} & -W_{n/2}\n",
    "\\end{pmatrix}.\n",
    "$$\n",
    "Thus, we <font color='red'>reduced multiplication by $F_n$ to 2 multiplications by $F_{n/2}$</font> and cheap multiplications by diagonal matrices. If we apply obtained expressions recursively to $F_{n/2}$, we will get $\\mathcal{O}(n\\log n)$ complexity."
   ]
  },
  {
   "cell_type": "code",
   "execution_count": 6,
   "metadata": {
    "collapsed": false,
    "slideshow": {
     "slide_type": "slide"
    }
   },
   "outputs": [
    {
     "name": "stdout",
     "output_type": "stream",
     "text": [
      "Full matvec time = 0.193336009979\n",
      "FFT time = 0.000387907028198\n",
      "Relative error = 1.52703187922e-12\n"
     ]
    }
   ],
   "source": [
    "#FFT vs full matvec\n",
    "import time\n",
    "import numpy as np\n",
    "import scipy as sp\n",
    "import scipy.linalg\n",
    "\n",
    "n = 10000\n",
    "F = sp.linalg.dft(n)\n",
    "x = np.random.randn(n)\n",
    "\n",
    "t = time.time()\n",
    "y_full = F.dot(x)\n",
    "print 'Full matvec time =', time.time() - t\n",
    "\n",
    "t = time.time()\n",
    "y_fft = np.fft.fft(x)\n",
    "print 'FFT time =', time.time() - t\n",
    "\n",
    "print 'Relative error =', (np.linalg.norm(y_full - y_fft)) / np.linalg.norm(y_full)"
   ]
  },
  {
   "cell_type": "markdown",
   "metadata": {
    "slideshow": {
     "slide_type": "slide"
    }
   },
   "source": [
    "## Circulant matrices\n",
    "\n"
   ]
  },
  {
   "cell_type": "markdown",
   "metadata": {
    "slideshow": {
     "slide_type": "-"
    }
   },
   "source": [
    "FFT helps to multiply fast by certain types of matrices. We start from circulant matrix:\n",
    "\n",
    "$$\n",
    "C =\n",
    "\\begin{pmatrix} \n",
    "    c_0 & c_{n-1} & c_{n-2} & \\dots & c_1 \\\\\n",
    "    c_{1} & c_{0} & c_{n-1} & \\dots & c_2 \\\\\n",
    "    c_{2} & c_{1} & c_0 & \\dots & c_3 \\\\\n",
    "    \\dots & \\dots & \\dots & \\dots & \\dots \\\\\n",
    "    c_{n-1} & c_{n-2} & c_{n-3} & \\dots & c_0\n",
    "\\end{pmatrix}\n",
    "$$"
   ]
  },
  {
   "cell_type": "markdown",
   "metadata": {
    "slideshow": {
     "slide_type": "slide"
    }
   },
   "source": [
    "**Theorem.** \n",
    "Let $C$ be a circulant matrix of size $n\\times n$ with first column $c$, then\n",
    "$$\n",
    "    C = \\frac{1}{n} F_n^* \\text{diag}(F_n c) F_n \n",
    "$$"
   ]
  },
  {
   "cell_type": "markdown",
   "metadata": {
    "slideshow": {
     "slide_type": "fragment"
    }
   },
   "source": [
    "*Proof.* \n",
    "Consider a number $$\\lambda (\\omega) = c_0 + \\omega c_1 + \\dots + \\omega^{n-1} c_{n-1},$$ where $\\omega$ is any number such that $\\omega^n=1$. Lets multiply $\\lambda$ by $1,\\omega,\\dots, \\omega^{n-1}$:\n",
    "$$\n",
    "\\begin{split}\n",
    "\\lambda & = c_0 &+& \\omega c_1 &+& \\dots &+& \\omega^{n-1} c_{n-1},\\\\\n",
    "\\lambda\\omega & = c_{n-1} &+& \\omega c_0 &+& \\dots &+& \\omega^{n-1} c_{n-2},\\\\\n",
    "\\lambda\\omega^2 & = c_{n-2} &+& \\omega c_{n-1} &+& \\dots &+& \\omega^{n-1} c_{n-3},\\\\\n",
    "&\\dots\\\\\n",
    "\\lambda\\omega^{n-1} & = c_{1} &+& \\omega c_{2} &+& \\dots &+& \\omega^{n-1} c_{0}.\n",
    "\\end{split}\n",
    "$$\n",
    "Therefore,\n",
    "$$\n",
    "\\lambda(\\omega) \\cdot \\begin{pmatrix} 1&\\omega & \\dots& \\omega^{n-1} \\end{pmatrix}\n",
    "=\n",
    "\\begin{pmatrix} 1&\\omega&\\dots& \\omega^{n-1} \\end{pmatrix} \\cdot C.\n",
    "$$\n",
    "Writing this for $\\omega = 1,w_n, \\dots, w_n^{n-1}$ we get\n",
    "$$\n",
    "\\Lambda F_n = F_n C\n",
    "$$\n",
    "and finally\n",
    "$$\n",
    "C = \\frac{1}{n} F^*_n \\Lambda F_n, \\quad \\text{where}\\quad \\Lambda = \\text{diag}(F_nc) \\qquad\\blacksquare\n",
    "$$"
   ]
  },
  {
   "cell_type": "markdown",
   "metadata": {
    "slideshow": {
     "slide_type": "slide"
    }
   },
   "source": [
    "#### Fast matvec with circulant matrix\n",
    "\n",
    "Representation $C = \\frac{1}{n} F^* \\text{diag}(F_n c) F_n $ gives us explicit way to multiply a vector $x$ by $C$ in $\\mathcal{O}(n\\log n)$ operations. Indeed,\n",
    "$$\n",
    "Cx = \\frac{1}{n} F_n^* \\text{diag}(F_n c) F_n x = \\text{ifft}\\left( \\text{fft}(c) \\circ \\text{fft}(x)\\right)\n",
    "$$\n",
    "where $\\circ$ denotes elementwise product (Hadamard product) of two vectors (since $\\text{diag}(a)b = a\\circ b$) and ifft denotes inverse Fourier transform $F^{-1}_n$."
   ]
  },
  {
   "cell_type": "code",
   "execution_count": null,
   "metadata": {
    "collapsed": false,
    "slideshow": {
     "slide_type": "-"
    }
   },
   "outputs": [],
   "source": [
    "import time\n",
    "import numpy as np\n",
    "import scipy as sp\n",
    "import scipy.linalg\n",
    "\n",
    "def circulant_matvec(c, x):\n",
    "    return np.fft.ifft(np.fft.fft(c) * np.fft.fft(x))\n",
    "\n",
    "n = 10000\n",
    "c = np.random.random(n)\n",
    "C = sp.linalg.circulant(c)\n",
    "x = np.random.randn(n)\n",
    "\n",
    "t = time.time()\n",
    "y_full = C.dot(x)\n",
    "print 'Full matvec time =', time.time() - t\n",
    "\n",
    "t = time.time()\n",
    "y_fft = circulant_matvec(c, x)\n",
    "print 'FFT time =', time.time() - t\n",
    "\n",
    "print 'Relative error =', (np.linalg.norm(y_full - y_fft)) / np.linalg.norm(y_full)"
   ]
  },
  {
   "cell_type": "markdown",
   "metadata": {
    "slideshow": {
     "slide_type": "slide"
    }
   },
   "source": [
    "## Toeplitz matrices"
   ]
  },
  {
   "cell_type": "markdown",
   "metadata": {
    "slideshow": {
     "slide_type": "-"
    }
   },
   "source": [
    "Another example where FFT can help us with the fast matvec operation are Toeplitz matrices (diagonal constant matrices):\n",
    "$$\n",
    "T =\n",
    "\\begin{pmatrix} \n",
    "    t_0 & t_{-1} & t_{-2} & t_{-3}& \\dots & t_{1-n} \\\\\n",
    "    t_{1} & t_{0} & t_{-1} & t_{-2}& \\dots & t_{2-n} \\\\\n",
    "    t_{2} & t_{1} & t_0 & t_{-1} &\\dots & t_{3-n} \\\\\n",
    "    t_{3} & t_{2} & t_1 & t_0 & \\dots & t_{4-n} \\\\\n",
    "    \\dots & \\dots & \\dots & \\dots & \\dots & \\dots\\\\\n",
    "    t_{n-1} & t_{n-2} & t_{n-3} & t_{n-4} &\\dots &t_0\n",
    "\\end{pmatrix},\n",
    "$$\n",
    "or equivalently $T_{ij} = t_{i-j}$.\n",
    "\n",
    "Matvec operation can be written as\n",
    "$$\n",
    "y_i = \\sum_{j=1}^n t_{i-j} x_j,\n",
    "$$\n",
    "which can be interpreted as a discrete <font color='red'>convolution</font> of filter $t_i$ and signal $x_i$. \n",
    "For simplicity the size of the filter $t$ is such that the size of input and output signals are equal. Generally, filter size can be arbitrary.\n",
    "\n",
    "Fast convolution computation has a variety of applications, for instance, in signal processing or partial differential and integral equations. For instance, here is the smoothing of a signal:"
   ]
  },
  {
   "cell_type": "code",
   "execution_count": null,
   "metadata": {
    "collapsed": false,
    "slideshow": {
     "slide_type": "slide"
    }
   },
   "outputs": [],
   "source": [
    "from scipy import signal\n",
    "alpha = 0.01\n",
    "sig = np.repeat([0., 1., 0.], 100)\n",
    "filt = np.exp(-alpha * (np.arange(100)-50)**2)\n",
    "filtered = signal.convolve(sig, filt, mode='same') / sum(filt)\n",
    "\n",
    "fig, (ax_orig, ax_filt, ax_filtered) = plt.subplots(3, 1, sharex=True)\n",
    "ax_orig.plot(sig)\n",
    "ax_orig.margins(0, 0.1)\n",
    "ax_filt.plot(filt)\n",
    "ax_filt.margins(0, 0.1)\n",
    "ax_filtered.plot(filtered)\n",
    "ax_filtered.margins(0, 0.1)\n",
    "\n",
    "ax_orig.set_title('Original signal')\n",
    "ax_filt.set_title('Filter')\n",
    "ax_filtered.set_title('Convolution')\n",
    "\n",
    "fig.tight_layout()"
   ]
  },
  {
   "cell_type": "markdown",
   "metadata": {
    "slideshow": {
     "slide_type": "slide"
    }
   },
   "source": [
    "#### Fast matvec with Toeplitz matrix\n",
    "\n",
    "The multiplication by Toeplitz matrix can be reduced to the multiplication by a circulant.\n",
    "Indeed, every Toeplitz matrix of size $n\\times n$ can be embedded into a Circulant matrix $C$ of size $2n-1 \\times 2n-1$:\n",
    "$$\n",
    "C = \n",
    "\\begin{pmatrix}\n",
    "    T & \\dots \\\\\n",
    "    \\dots & \\dots\n",
    "\\end{pmatrix}.\n",
    "$$\n",
    "The $3\\times 3$ matrix $T = \\begin{pmatrix} \n",
    "    t_0 & t_{-1} & t_{-2} \\\\\n",
    "    t_{1} & t_{0} & t_{-1} \\\\\n",
    "    t_{2} & t_{1} & t_0 \\\\\n",
    "\\end{pmatrix}$ \n",
    "can be embedded as follows\n",
    "$$\n",
    "C = \n",
    " \\begin{pmatrix} \n",
    "    t_0 & t_{-1} & t_{-2} & t_{2} & t_{1}\\\\\n",
    "    t_{1} & t_{0} & t_{-1} & t_{-2} & t_{2} \\\\\n",
    "    t_{2} & t_{1} & t_0 & t_{-1} & t_{-2} \\\\\n",
    "    t_{-2}& t_{2} & t_{1} & t_0 & t_{-1}  \\\\\n",
    "    t_{-1} & t_{-2} & t_{2} & t_{1} & t_0  \n",
    "\\end{pmatrix}.\n",
    "$$\n",
    "For matvec \n",
    "$\n",
    "\\begin{pmatrix} y_1 \\\\ y_2 \\\\ y_3 \\end{pmatrix}\n",
    "=\n",
    "\\begin{pmatrix} \n",
    "    t_0 & t_{-1} & t_{-2} \\\\\n",
    "    t_{1} & t_{0} & t_{-1} \\\\\n",
    "    t_{2} & t_{1} & t_0 \\\\\n",
    "\\end{pmatrix}\n",
    "\\begin{pmatrix} x_1 \\\\ x_2 \\\\ x_3 \\end{pmatrix}\n",
    "$\n",
    "we pad vector $x$ with zeros:\n",
    "$$\n",
    "\\begin{pmatrix} y_1 \\\\ y_2 \\\\ y_3 \\\\ * \\\\ * \\end{pmatrix}\n",
    "=\n",
    "\\begin{pmatrix} \n",
    "    t_0 & t_{-1} & t_{-2} & t_{2} & t_{1}\\\\\n",
    "    t_{1} & t_{0} & t_{-1} & t_{-2} & t_{2} \\\\\n",
    "    t_{2} & t_{1} & t_0 & t_{-1} & t_{-2} \\\\\n",
    "    t_{-2}& t_{2} & t_{1} & t_0 & t_{-1}  \\\\\n",
    "    t_{-1} & t_{-2} & t_{2} & t_{1} & t_0  \n",
    "\\end{pmatrix}\n",
    "\\begin{pmatrix} x_1 \\\\ x_2 \\\\ x_3 \\\\ 0 \\\\ 0 \\end{pmatrix}\n",
    "=\n",
    "\\text{ifft}(\n",
    "\\text{fft}(\\begin{pmatrix} t_0 \\\\ t_{1} \\\\ t_{2} \\\\ t_{-2} \\\\ t_{-1} \\end{pmatrix})\n",
    "\\circ\n",
    "\\text{fft}(\\begin{pmatrix} x_1 \\\\ x_2 \\\\ x_3 \\\\ 0 \\\\ 0 \\end{pmatrix})\n",
    ").\n",
    "$$\n",
    "Note that you do not need to form and store the whole matrix $T$."
   ]
  },
  {
   "cell_type": "markdown",
   "metadata": {
    "slideshow": {
     "slide_type": "slide"
    }
   },
   "source": [
    "## Multilevel Toeplitz matrices\n",
    "\n",
    "The 2-dimensional convolution is defined as \n",
    "$$\n",
    "y_{i_1i_2} = \\sum_{j_1,j_2=1}^n t_{i_1-j_1, i_2-j_2} x_{j_1 j_2}.\n",
    "$$\n",
    "Note that $x$ and $y$ are 2-dimensional arrays and $T$ is 4-dimensional. \n",
    "To reduce this expression to matrix-by-vector product we have to reshape $x$ and $y$ into long vectors:\n",
    "$$\n",
    "\\text{vec}(x) = \n",
    "\\begin{pmatrix}\n",
    "    x_{11} \\\\ \\vdots \\\\ x_{1n} \\\\ \\hline \\\\ \\vdots \\\\ \\hline \\\\ x_{n1} \\\\ \\vdots \\\\ x_{nn}\n",
    "\\end{pmatrix},\n",
    "\\quad\n",
    "\\text{vec}(y) = \n",
    "\\begin{pmatrix}\n",
    "    y_{11} \\\\ \\vdots \\\\ y_{1n} \\\\ \\hline \\\\ \\vdots \\\\ \\hline \\\\ y_{n1} \\\\ \\vdots \\\\ y_{nn}\n",
    "\\end{pmatrix}.\n",
    "$$\n",
    "In this case matrix $T$ is block Toeplitz with Toeplitz blocks:\n",
    "$$\n",
    "T = \n",
    "\\begin{pmatrix} \n",
    "    T_0 & T_{-1} & T_{-2} &  \\dots & T_{1-n} \\\\\n",
    "    T_{1} & T_{0} & T_{-1} & \\dots & T_{2-n} \\\\\n",
    "    T_{2} & T_{1} & T_0 & \\dots & T_{3-n} \\\\\n",
    "    \\dots & \\dots & \\dots &  \\dots & \\dots\\\\\n",
    "    T_{n-1} & T_{n-2} & T_{n-3}  &\\dots &T_0\n",
    "\\end{pmatrix},\n",
    "\\quad \\text{where} \\quad\n",
    "T_k = t_{k, i_2 - j_2}\\quad  \\text{are Toeplitz matrices}\n",
    "$$"
   ]
  },
  {
   "cell_type": "markdown",
   "metadata": {
    "slideshow": {
     "slide_type": "slide"
    }
   },
   "source": [
    "#### Fast matvec with multilevel Toeplitz matrix\n",
    "\n",
    "To get fast matvec we need to embed block Toeplitz matrix with Toeplitz blocks into the block circulant matrix with circulant blocks. The analog of\n",
    "$$\n",
    "\\begin{pmatrix} y_1 \\\\ y_2 \\\\ y_3 \\\\ * \\\\ * \\end{pmatrix}\n",
    "=\n",
    "\\text{ifft}(\n",
    "\\text{fft}(\\begin{pmatrix} t_0 \\\\ t_{1} \\\\ t_{2} \\\\ t_{-2} \\\\ t_{-1} \\end{pmatrix})\n",
    "\\circ\n",
    "\\text{fft}(\\begin{pmatrix} x_1 \\\\ x_2 \\\\ x_3 \\\\ 0 \\\\ 0 \\end{pmatrix})\n",
    ").\n",
    "$$\n",
    "will look like\n",
    "$$\n",
    "\\begin{pmatrix}\n",
    "    y_{11} & y_{12} & y_{13} & * & *\\\\ \n",
    "    y_{21} & y_{22} & y_{23} & * & *\\\\  \n",
    "    y_{31} & y_{32} & y_{33} & * & *\\\\ \n",
    "    * & * & * & * & *\\\\  \n",
    "    * & * & * & * & *\\\\  \n",
    "\\end{pmatrix}\n",
    "=\n",
    "\\text{ifft2d}(\n",
    "\\text{fft2d}(\\begin{pmatrix}\n",
    "    t_{0,0} & t_{1,0} & t_{2,0} & t_{-2,0} & t_{-1,0}\\\\ \n",
    "    t_{0,1} & t_{1,1} & t_{2,1} & t_{-2,1} & t_{-1,1}\\\\  \n",
    "    t_{0,2} & t_{1,2} & t_{2,2} & t_{-2,2} & t_{-1,2}\\\\ \n",
    "    t_{0,-2} & t_{1,-2} & t_{2,-2} & t_{-2,-2} & t_{-1,-2}\\\\ \n",
    "    t_{0,-1} & t_{1,-1} & t_{2,-1} & t_{-2,-1} & t_{-1,-1}\n",
    "\\end{pmatrix})\n",
    "\\circ\n",
    "\\text{fft2d}(\\begin{pmatrix}\n",
    "    x_{11} & x_{12} & x_{13} & 0 & 0\\\\ \n",
    "    x_{21} & x_{22} & x_{23} & 0 & 0\\\\  \n",
    "    x_{31} & x_{32} & x_{33} & 0 & 0\\\\ \n",
    "    0 & 0 & 0 & 0 & 0\\\\  \n",
    "    0 & 0 & 0 & 0 & 0\\\\  \n",
    "\\end{pmatrix})\n",
    "),\n",
    "$$\n",
    "where fft2d is 2-dimensional fft that consists of one-dimensional transforms, applied first to rows and and then to columns (or vice versa)."
   ]
  },
  {
   "cell_type": "code",
   "execution_count": null,
   "metadata": {
    "collapsed": false,
    "slideshow": {
     "slide_type": "slide"
    }
   },
   "outputs": [],
   "source": [
    "# Blurring and Sharpening the Lena by convolution\n",
    "\n",
    "from scipy import signal\n",
    "from scipy import misc\n",
    "\n",
    "filter_size = 3\n",
    "filter_blur = np.ones((filter_size, filter_size)) / filter_size**2\n",
    "lena = misc.lena()\n",
    "\n",
    "blurred = signal.convolve2d(lena, filter_blur, boundary='symm', mode='same')\n",
    "\n",
    "fig, ax = plt.subplots(2, 2, figsize=(8, 8))\n",
    "ax[0, 0].imshow(lena[200:300, 200:300], cmap='gray')\n",
    "ax[0, 0].set_title('Original Lena')\n",
    "ax[0, 1].imshow(blurred[200:300, 200:300], cmap='gray')\n",
    "ax[0, 1].set_title('Blurred Lena')\n",
    "ax[1, 0].imshow((lena - blurred)[200:300, 200:300], cmap='gray')\n",
    "ax[1, 0].set_title('Lena $-$ Blurred Lena')\n",
    "ax[1, 1].imshow(((lena - blurred)*3 + blurred)[200:300, 200:300], cmap='gray')\n",
    "ax[1, 1].set_title('$3\\cdot$(Lena $-$ Blurred Lena) + Blurred Lena')\n",
    "fig.tight_layout()"
   ]
  },
  {
   "cell_type": "markdown",
   "metadata": {},
   "source": [
    "## Conclusions\n",
    "\n",
    "* For big matrices $\\mathcal{O}(n^2)$ is very time-consuming\n",
    "* Can be better for special types of matrices"
   ]
  }
 ],
 "metadata": {
  "celltoolbar": "Slideshow",
  "kernelspec": {
   "display_name": "Python 2",
   "language": "python",
   "name": "python2"
  },
  "language_info": {
   "codemirror_mode": {
    "name": "ipython",
    "version": 2
   },
   "file_extension": ".py",
   "mimetype": "text/x-python",
   "name": "python",
   "nbconvert_exporter": "python",
   "pygments_lexer": "ipython2",
   "version": "2.7.9"
  }
 },
 "nbformat": 4,
 "nbformat_minor": 0
}
