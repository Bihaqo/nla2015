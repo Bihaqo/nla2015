{
 "cells": [
  {
   "cell_type": "markdown",
   "metadata": {},
   "source": [
    "## Cocktail party problem\n",
    "### original file by Kevin Hughes\n",
    "\n",
    "\n",
    "**Problem setup:** A number of people are talking simultaneously and we want to separate each persons speech so we can listen to it separately. Now the caveat with this type of approach is that we need as many mixtures as we have source signals or in terms of the cocktail party problem we need as many microphones as people talking in the room.\n",
    "\n",
    "First, some technical stuff for loading audio\n",
    "\n"
   ]
  },
  {
   "cell_type": "code",
   "execution_count": null,
   "metadata": {
    "code_folding": [
     0
    ],
    "collapsed": true
   },
   "outputs": [],
   "source": [
    "#Tech stuff\n",
    "from scipy.io import wavfile\n",
    "from scipy.signal import resample\n",
    "import numpy as np\n",
    "%matplotlib inline\n",
    "import sys\n",
    "def load_wav(filename,samplerate=44100):\n",
    "    \n",
    "    # load file\n",
    "    rate, data = wavfile.read(filename)\n",
    "\n",
    "    # convert stereo to mono\n",
    "    if len(data.shape) > 1:\n",
    "        data = data[:,0]/2 + data[:,1]/2\n",
    "\n",
    "    # re-interpolate samplerate    \n",
    "    ratio = float(samplerate) / float(rate)\n",
    "    data = resample(data, len(data) * ratio)\n",
    "    \n",
    "    return samplerate, data.astype(np.int16)\n"
   ]
  },
  {
   "cell_type": "code",
   "execution_count": null,
   "metadata": {
    "code_folding": [],
    "collapsed": true
   },
   "outputs": [],
   "source": [
    "#Reading the wavefile\n",
    "import StringIO\n",
    "import base64\n",
    "import struct  \n",
    "\n",
    "from IPython.core.display import HTML\n",
    "from IPython.core.display import display\n",
    "def wavPlayer(data, rate):\n",
    "    \"\"\" will display html 5 player for compatible browser\n",
    "    The browser need to know how to play wav through html5.\n",
    "    there is no autoplay to prevent file playing when the browser opens\n",
    "    Adapted from SciPy.io. and\n",
    "    github.com/Carreau/posts/blob/master/07-the-sound-of-hydrogen.ipynb\n",
    "    \"\"\"\n",
    "    \n",
    "    buffer = StringIO.StringIO()\n",
    "    buffer.write(b'RIFF')\n",
    "    buffer.write(b'\\x00\\x00\\x00\\x00')\n",
    "    buffer.write(b'WAVE')\n",
    "\n",
    "    buffer.write(b'fmt ')\n",
    "    if data.ndim == 1:\n",
    "        noc = 1\n",
    "    else:\n",
    "        noc = data.shape[1]\n",
    "    bits = data.dtype.itemsize * 8\n",
    "    sbytes = rate*(bits // 8)*noc\n",
    "    ba = noc * (bits // 8)\n",
    "    buffer.write(struct.pack('<ihHIIHH', 16, 1, noc, rate, sbytes, ba, bits))\n",
    "\n",
    "    # data chunk\n",
    "    buffer.write(b'data')\n",
    "    buffer.write(struct.pack('<i', data.nbytes))\n",
    "\n",
    "    if data.dtype.byteorder == '>' or (data.dtype.byteorder == '=' and sys.byteorder == 'big'):\n",
    "        data = data.byteswap()\n",
    "\n",
    "    buffer.write(data.tostring())\n",
    "    # return buffer.getvalue()\n",
    "    # Determine file size and place it in correct\n",
    "    # position at start of the file.\n",
    "    size = buffer.tell()\n",
    "    buffer.seek(4)\n",
    "    buffer.write(struct.pack('<i', size-8))\n",
    "    \n",
    "    val = buffer.getvalue()\n",
    "    \n",
    "    src = \"\"\"\n",
    "    <head>\n",
    "    <meta http-equiv=\"Content-Type\" content=\"text/html; charset=utf-8\">\n",
    "    <title>Simple Test</title>\n",
    "    </head>\n",
    "    \n",
    "    <body>\n",
    "    <audio controls=\"controls\" style=\"width:600px\" >\n",
    "      <source controls src=\"data:audio/wav;base64,{base64}\" type=\"audio/wav\" />\n",
    "      Your browser does not support the audio element.\n",
    "    </audio>\n",
    "    </body>\n",
    "    \"\"\".format(base64=base64.encodestring(val))\n",
    "    display(HTML(src))"
   ]
  },
  {
   "cell_type": "markdown",
   "metadata": {},
   "source": [
    "Now we can test the audio reading stuff. Following the original .ipynb file, I will use Starcraft sounds (that is from my childhood, yea as well, how many of you remembers what it is?), but you can use your own wave files for fun. The files are downloaded from http://wavs.unclebubby.com/computer/starcraft/"
   ]
  },
  {
   "cell_type": "code",
   "execution_count": null,
   "metadata": {
    "collapsed": false
   },
   "outputs": [],
   "source": [
    "#The first sound\n",
    "import pylab as pl\n",
    "import numpy as np\n",
    "# load\n",
    "fs1,s1 = load_wav('tbawht02.wav') # Terran Battlecruiser - \"Good day, commander.\"\n",
    "\n",
    "# plot\n",
    "pl.figure(figsize=(6.75,2))\n",
    "pl.plot(s1)\n",
    "pl.title('Signal 1')\n",
    "pl.show()\n",
    "\n",
    "# player\n",
    "wavPlayer(s1, fs1)"
   ]
  },
  {
   "cell_type": "code",
   "execution_count": null,
   "metadata": {
    "collapsed": false
   },
   "outputs": [],
   "source": [
    "# load\n",
    "fs2,s2 = load_wav('TMaRdy00.wav') # Terran Marine - \"You want a piece of me, boy?\"\n",
    "\n",
    "# plot\n",
    "pl.figure(figsize=(6.75,2))\n",
    "pl.plot(s2)\n",
    "pl.title('Signal 2')\n",
    "pl.show()\n",
    "\n",
    "# player\n",
    "wavPlayer(s2, fs2)\n"
   ]
  },
  {
   "cell_type": "code",
   "execution_count": null,
   "metadata": {
    "collapsed": false
   },
   "outputs": [],
   "source": [
    "# load\n",
    "fs3,s3 = load_wav('PDrPss02.wav') # Protoss Zealot - \"Drop your weapon. You have 15 seconds to comply\"\n",
    "\n",
    "# plot\n",
    "pl.figure(figsize=(6.75,2))\n",
    "pl.plot(s3)\n",
    "pl.title('Signal 3')\n",
    "pl.show()\n",
    "\n",
    "# player\n",
    "wavPlayer(s3, fs3)\n"
   ]
  },
  {
   "cell_type": "markdown",
   "metadata": {},
   "source": [
    "The signals are mixed by creating a mixing matrix A and taking the dot product of A with the signals S.\n",
    "\n",
    "Afterwards I plot the mixed signals and create the wavPlayers, so you can listen!\n",
    "The code below uses scikit-learn package, which can be installed (if it is not installed)\n",
    "\n",
    "```\n",
    "   conda install scikit-learn\n",
    "```\n",
    "(Anaconda Python distribution assumed)\n",
    "\n"
   ]
  },
  {
   "cell_type": "code",
   "execution_count": null,
   "metadata": {
    "collapsed": false
   },
   "outputs": [],
   "source": [
    "import numpy as np\n",
    "\n",
    "# Adjust for different clip lengths\n",
    "fs = fs1\n",
    "length = max([len(s1), len(s2), len(s3)])\n",
    "s1 = np.resize(s1, (length,1))\n",
    "s2 = np.resize(s2, (length,1))\n",
    "s3 = np.resize(s3, (length,1))\n",
    "\n",
    "S = (np.c_[s1, s2, s3]).T\n",
    "\n",
    "# Mixing Matrix\n",
    "#A = np.random.uniform(size=(3,3))\n",
    "#A = A / A.sum(axis=0)\n",
    "A = np.array([[1, 0.5, 0.5],\n",
    "              [0.5, 1, 0.5], \n",
    "              [0.5, 0.5, 1]]) \n",
    "print 'Mixing Matrix:'\n",
    "print A.round(2)\n",
    "\n",
    "# Mix Signals\n",
    "X = np.dot(A,S)\n",
    "#Some noise as well\n",
    "X = X * (1 + 0.0 * np.random.randn(X.shape[0], X.shape[1]))\n",
    "# Mixed Signal i\n",
    "for i in range(X.shape[0]):\n",
    "    pl.figure(figsize=(6.75,2))\n",
    "    pl.plot((X[i]).astype(np.int16))\n",
    "    pl.title('Mixed Signal %d' % (i+1))\n",
    "    pl.show()\n",
    "    wavPlayer((X[i]).astype(np.int16), fs)"
   ]
  },
  {
   "cell_type": "markdown",
   "metadata": {},
   "source": [
    "Now we have to separate the mixtures. For this we use the ``FastICA`` method from the ``sklearn`` module. Presumably, we will discuss it later on, when we will talk about matrix decompositions. The idea is to find a matrix $W$ that unmixes the mixture\n",
    "$$X=WY,$$\n",
    "such that $X$ are as independent, as possible. There are different criteria of independence. Independent of two random variables requires infinite number of equations to be solved, and there are many variants for doing this, and this is still an active research topic.\n",
    "\n"
   ]
  },
  {
   "cell_type": "code",
   "execution_count": null,
   "metadata": {
    "collapsed": true
   },
   "outputs": [],
   "source": [
    "from sklearn.decomposition import FastICA\n",
    "ica = FastICA(n_components=3)\n",
    "S_ = ica.fit_transform(X.T).T  # Reconstruct signals\n",
    "A_ = ica.mixing_  # Get estimated mixing matrix\n"
   ]
  },
  {
   "cell_type": "code",
   "execution_count": null,
   "metadata": {
    "collapsed": false
   },
   "outputs": [],
   "source": [
    "# Show separation results\n",
    "\n",
    "# Separated Signal i\n",
    "gain = 1000000\n",
    "for i in range(S_.shape[0]):\n",
    "    pl.figure(figsize=(6.75,2))\n",
    "    pl.plot((gain*S_[i]).astype(np.int16))\n",
    "    pl.title('Separated Signal %d' % (i+1))\n",
    "    pl.show()\n",
    "    wavPlayer((gain*S_[i]).astype(np.int16), fs)\n"
   ]
  }
 ],
 "metadata": {
  "kernelspec": {
   "display_name": "Python 2",
   "language": "python",
   "name": "python2"
  },
  "language_info": {
   "codemirror_mode": {
    "name": "ipython",
    "version": 2
   },
   "file_extension": ".py",
   "mimetype": "text/x-python",
   "name": "python",
   "nbconvert_exporter": "python",
   "pygments_lexer": "ipython2",
   "version": "2.7.10"
  }
 },
 "nbformat": 4,
 "nbformat_minor": 0
}
