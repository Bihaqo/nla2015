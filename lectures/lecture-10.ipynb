{
 "cells": [
  {
   "cell_type": "markdown",
   "metadata": {
    "slideshow": {
     "slide_type": "slide"
    }
   },
   "source": [
    "# Lecture 10: Symmetric eigenvalue problem(algorithms) and SVD(applications)"
   ]
  },
  {
   "cell_type": "markdown",
   "metadata": {
    "slideshow": {
     "slide_type": "slide"
    }
   },
   "source": [
    "## Syllabus\n",
    "**Week 1:** Matrices, vectors, matrix/vector norms, scalar products & unitary matrices  \n",
    "**Week 2:** TAs-week (Strassen, FFT, a bit of SVD)  \n",
    "**Week 3:** Matrix ranks, singular value decomposition, linear systems, eigenvalues  \n",
    "**Week 4:** Matrix decompositions: QR, LU, SVD + test + structured matrices start"
   ]
  },
  {
   "cell_type": "markdown",
   "metadata": {
    "slideshow": {
     "slide_type": "slide"
    }
   },
   "source": [
    "## Recap of the previous lecture\n",
    "- LU decomposition and Gaussian elimination, Cholesky factorization\n",
    "- QR decomposition and Gram-Schmidt algorithm\n",
    "- Schur decomposition and QR-algorithm (basic)"
   ]
  },
  {
   "cell_type": "markdown",
   "metadata": {
    "slideshow": {
     "slide_type": "slide"
    }
   },
   "source": [
    "## Today lecture\n",
    "\n",
    "Today we will talk about:\n",
    "\n",
    "- Algorithms for the symmetric eigenvalue problems (QR-algorithm, Divide-and-Conquer, bisection)\n",
    "- SVD and its applicationss\n"
   ]
  },
  {
   "cell_type": "markdown",
   "metadata": {
    "slideshow": {
     "slide_type": "slide"
    }
   },
   "source": [
    "## Symmetric eigenvalue problem\n",
    "\n",
    "If $A = A^*$, then $A$ is a **normal matrix**, thus\n",
    "\n",
    "$$A = U \\Lambda U^*.$$\n",
    "\n",
    "By Householder transformations we can reduce the matrix $A$ to the **triadiagonal form** (in the general case, **upper Hessenberg form**)\n",
    "\n"
   ]
  },
  {
   "cell_type": "markdown",
   "metadata": {
    "slideshow": {
     "slide_type": "slide"
    }
   },
   "source": [
    "## QR-algorithm: iterations\n",
    "\n",
    "The iterations of the QR-algorithm have the following form:\n",
    "\n",
    "$$A_k = Q_k R_k, \\quad A_{k+1} = R_k Q_k.$$\n",
    "\n",
    "If $A_0 = A$ is <font color='red'> tridiagonal symmetric matrix </font>, this form is preserved by the QR-algorithm.\n",
    "\n",
    "Let us see.."
   ]
  },
  {
   "cell_type": "code",
   "execution_count": null,
   "metadata": {
    "collapsed": false,
    "slideshow": {
     "slide_type": "slide"
    }
   },
   "outputs": [],
   "source": [
    "%matplotlib inline\n",
    "import numpy as np\n",
    "import matplotlib.pyplot as plt\n",
    "import seaborn as sns\n",
    "sns.set_style('white')\n",
    "#Generate a random tridiagonal matrix\n",
    "\n",
    "n = 20\n",
    "d = np.random.randn(n)\n",
    "sub_diag = np.random.randn(n-1)\n",
    "\n",
    "mat = np.diag(d) + np.diag(sub_diag, -1) + np.diag(sub_diag, 1)\n",
    "mat1 = np.abs(mat)\n",
    "mat1 = mat1/np.max(mat1.flatten())\n",
    "plt.spy(mat)\n",
    "#q, r = np.linalg.qr(mat)\n",
    "#plt.figure()\n",
    "#plt.imshow(np.abs(q))\n",
    "#plt.figure()\n",
    "#plt.imshow(np.abs(r.dot(q)))"
   ]
  },
  {
   "cell_type": "markdown",
   "metadata": {
    "slideshow": {
     "slide_type": "slide"
    }
   },
   "source": [
    "## Tridiagonal form\n",
    "In the tridiagonal form, you do not have to compute the **Q** matrix: you only have to compute the **triadiagonal part**\n",
    "\n",
    "In the \"eigenvalues only\" mode the computation takes $\\mathcal{O}(n)$ for one step.\n",
    "\n",
    "This is called **implicit QR-step**"
   ]
  },
  {
   "cell_type": "markdown",
   "metadata": {
    "slideshow": {
     "slide_type": "slide"
    }
   },
   "source": [
    "## Theorem on implicit-QR iteration\n",
    "\n",
    "\n",
    "All the implicit QR-algorithms are based on the following theorem: \n",
    "\n",
    "Let $$Q^* A Q = H$$ be a irreducible upper Hessenberg matrix.\n",
    "\n",
    "Then, the first column of the matrix $Q$ defines all of its other columns. \n"
   ]
  },
  {
   "cell_type": "markdown",
   "metadata": {
    "slideshow": {
     "slide_type": "slide"
    }
   },
   "source": [
    "## Convergence of the QR-algorithm\n",
    "\n",
    "The convergence of the QR-algorithm is a very **delicate issue** (see Tyrtyshnikov, Brief introduction to numerical analysis for details). \n",
    "\n",
    "Summary, if \n",
    "\n",
    "$$A = X \\Lambda X^{-1},$$\n",
    "\n",
    "and $$\\Lambda = \\begin{bmatrix} \\Lambda_1 & 0 \\\\ \n",
    "0 & \\Lambda_2 \\end{bmatrix},$$\n",
    "\n",
    "and there is a **gap** between the eigenvalues of $\\Lambda_1$ and $\\Lambda_2$, then the $21$ block in the QR-iteration goes to zero with $q = \\frac{\\lambda_m}{\\lambda_{m+1}}$.\n",
    "}\n",
    "So we need to increase the gap!  The answer is given by the **shifted QR-algorithm**."
   ]
  },
  {
   "cell_type": "markdown",
   "metadata": {
    "slideshow": {
     "slide_type": "slide"
    }
   },
   "source": [
    "## QR-algorithm with shifts\n",
    "\n",
    "$$A_{k} - s_k I = Q_k R_k, \\quad A_{k+1} = R_k Q_k + s_k I$$\n",
    "\n",
    "There are several ways to select the shifts.\n",
    "\n",
    "We have **converged part** and not **converged part**: select $s_k = a_k$ (last non-converged diagonal element).\n",
    "\n",
    "The **Wilkinson shift** is to select the eigenvalue of a $2 \\times 2$ matrix. It is more robust, but there are examples of failure."
   ]
  },
  {
   "cell_type": "markdown",
   "metadata": {
    "slideshow": {
     "slide_type": "slide"
    }
   },
   "source": [
    "## Why we select such a shift?\n",
    "\n",
    "To answer this question, we have to go back to the power method. \n",
    "\n",
    "Remember the power method for the computation of the eigenvalues.\n",
    "\n",
    "$$x_{k+1} := A x_k.$$\n",
    "\n",
    "It converges to the largest eigenvalue in modulus. \n",
    "\n",
    "The convergence can be arbitrary slow.\n",
    "\n",
    "However, if we shift the matrix as \n",
    "\n",
    "$$ A := A - \\lambda I,$$\n",
    "\n",
    "the corresponding eigenvalue becomes small (but we need large)."
   ]
  },
  {
   "cell_type": "markdown",
   "metadata": {
    "slideshow": {
     "slide_type": "slide"
    }
   },
   "source": [
    "## Inverse iteration and Rayleigh quotient iteration\n",
    "\n",
    "To make a small eigenvalue large, we need to **invert the matrix**, and that gives us **inverse iteration**\n",
    "\n",
    "$$x_{k+1} = (A - \\lambda I)^{-1} x_k,$$\n",
    "\n",
    "And the **Rayleigh quotient iteration** is given by the selection of the **adaptive shift**:\n",
    "\n",
    "$$\\lambda = \\frac{(Ax_k, x_k)}{(x_k, x_k)}$$\n",
    "\n",
    "In the symmetric case $A = A^*$ the convergence is **cubic**."
   ]
  },
  {
   "cell_type": "markdown",
   "metadata": {
    "slideshow": {
     "slide_type": "slide"
    }
   },
   "source": [
    "## Singular values and eigenvalues (1)\n",
    "\n",
    "Now let us talk about singular values and eigenvalues. \n",
    "\n",
    "SVD: $$A = U \\Lambda V^*$$\n",
    "\n",
    "exists for any matrix.\n",
    "\n",
    "It can be also viewed as a reduction of a given matrix to the diagonal form by means of \n",
    "\n",
    "two-sided unitary transformations:\n",
    "\n",
    "$$\\Lambda = U^* A V.$$\n",
    "\n",
    "By Householder we can reduce to the **bidiagonal form**"
   ]
  },
  {
   "cell_type": "markdown",
   "metadata": {
    "slideshow": {
     "slide_type": "slide"
    }
   },
   "source": [
    "## Singular values and eigenvalues (2)\n",
    "\n",
    "Implicit QR-algorithm (with shifts) gives the way of computing the eigenvalues (and Schur form).\n",
    "\n",
    "The problem of the computation of the SVD can be reduced to the **symmetric eigenvalue problem** in two ways:\n",
    "\n",
    "0. Reduce to the bidiagonal form\n",
    "1. Work with the tridiagonal matrix $$T = B^* B$$ \n",
    "2. Work with the extended matrix $$T = \\begin{bmatrix} 0 & B \\\\ B^{\\top} & 0 \\end{bmatrix}$$\n",
    "\n",
    "\n",
    "The case 1. is ok if you **do not form T directly**!\n",
    "\n",
    "Thus, the problem of computing singular values can be reduced to the problem of the computation of the eigenvalues of symmetric tridiagonal matrix."
   ]
  },
  {
   "cell_type": "markdown",
   "metadata": {
    "slideshow": {
     "slide_type": "slide"
    }
   },
   "source": [
    "## Algorithms for the SEV \n",
    "\n",
    "1. QR-algorithm: the \"gold standard\" of the eigenvalue computations\n",
    "2. RQI-iteration: Rayleigh quotient iteration is implicitly performed at each step of the QR-algorithm\n",
    "3. Divide-and-conquer: the fastest (?) nowdays\n",
    "4. Bisection method\n",
    "5. Jacobi method"
   ]
  },
  {
   "cell_type": "markdown",
   "metadata": {
    "slideshow": {
     "slide_type": "slide"
    }
   },
   "source": [
    "## Divide-and-conquer\n",
    "\n",
    "Suppose we have a tridiagonal matrix, and we split it into two blocks:\n",
    "\n",
    "\n",
    "$$T = \\begin{bmatrix} T'_1 & B \\\\ B^{\\top} & T'_2 \\end{bmatrix}$$\n",
    "\n",
    "We can write the matrix $T$ as\n",
    "\n",
    "$$T = \\begin{bmatrix} T_1 & 0 \\\\ 0 & T_2 \\end{bmatrix} + b_m v v^{\\top}$$\n",
    "\n",
    "Suppose we have decomposed $T_1$ and $T_2$ already:\n",
    "\n",
    "$$T_1 = Q_1 \\Lambda_1 Q^*_1, \\quad T_2 = Q_2 \\Lambda_2 Q^*_2$$\n",
    "\n",
    "Then,\n",
    "\n",
    "$$\\begin{bmatrix} Q^*_1 & 0 \\\\ 0 & Q^*_2 \\end{bmatrix} T\\begin{bmatrix} Q^*_1 & 0 \\\\ 0 & Q^*_2 \\end{bmatrix} = D + \\rho u u^{*},$$\n",
    "\n",
    "I.e. we have reduced the problem to the problem of the computation of the eigenvalues of \n",
    "\n",
    "\n",
    "<font color='red'> Diagonal plus low-rank matrix </font>\n",
    "\n"
   ]
  },
  {
   "cell_type": "markdown",
   "metadata": {
    "slideshow": {
     "slide_type": "slide"
    }
   },
   "source": [
    "## Diagonal-plus-low-rank matrix\n",
    "\n",
    "Is it easy to compute the eigenvalues of the matrix\n",
    "\n",
    "$$D + \\rho u u^* $$\n",
    "\n",
    "The characteristic polynomial has the form\n",
    "\n",
    "$$\\det(D + \\rho uu^* - \\lambda I) = \\det(D - \\lambda I)\\det(I + \\rho (D - \\lambda I)^{-1} uu^*) = 0.$$\n",
    "\n",
    "Then (prove!!) \n",
    "\n",
    "$$\\det(I + \\rho (D - \\lambda I)^{-1} uu^*) = 1 + \\rho \\sum_{i=1}^n \\frac{|u_i|^2}{d_i - \\lambda} = 0$$"
   ]
  },
  {
   "cell_type": "markdown",
   "metadata": {
    "slideshow": {
     "slide_type": "slide"
    }
   },
   "source": [
    "## Characteristic equation\n",
    "\n",
    "$$1 + \\rho \\sum_{i=1}^n \\frac{|u_i|^2}{d_i - \\lambda} = 0$$\n",
    "\n",
    "How to find the roots?"
   ]
  },
  {
   "cell_type": "code",
   "execution_count": null,
   "metadata": {
    "collapsed": false,
    "slideshow": {
     "slide_type": "slide"
    }
   },
   "outputs": [],
   "source": [
    "import numpy as np\n",
    "\n",
    "lm = [1, 2, 3, 4]\n",
    "M = len(lm)\n",
    "D = np.array(lm)\n",
    "a = np.min(lm)\n",
    "b = np.max(lm)\n",
    "t = np.linspace(-1, 6, 1000)\n",
    "u = 0.5 * np.ones(M)\n",
    "rho = 1\n",
    "def fun(lam):\n",
    "    return 1 + rho * np.sum(u**2/(D - lam))\n",
    "res = [fun(lam) for lam in t]\n",
    "plt.plot(res, 'k')\n",
    "plt.ylim([-6, 6])\n",
    "plt.tight_layout()\n",
    "plt.title('Plot of the function')"
   ]
  },
  {
   "cell_type": "markdown",
   "metadata": {
    "slideshow": {
     "slide_type": "slide"
    }
   },
   "source": [
    "## Conclusion\n",
    "\n",
    "The function has only one root at $[d_i, d_{i+1}]$\n",
    "\n",
    "We have proved, by the way, the **Cauchy interlacing theorem** (what happens to the eigenvalues under rank-$1$ perturbation)"
   ]
  },
  {
   "cell_type": "markdown",
   "metadata": {
    "slideshow": {
     "slide_type": "slide"
    }
   },
   "source": [
    "## How to find the root\n",
    "\n",
    "A Newton method will fail (draw a picture with a tangent line).\n",
    "\n",
    "However, Newton method is just approximation of a function $f(\\lambda)$ by a linear function.\n",
    "\n",
    "Much better approximation is the **hyperbola**:\n",
    "\n",
    "$$f(\\lambda) \\approx c_0 + \\frac{c_1}{d_i - \\lambda} + \\frac{c_2}{d_{i+1} - \\lambda}.$$\n",
    "\n",
    "To fit the coefficients, we have to evaluate $f(\\lambda)$ and $f'(\\lambda)$ in the particular point.\n",
    "\n",
    "After that, the approximation can be recovered from solving **quadratic equation**\n",
    "\n",
    "\n"
   ]
  },
  {
   "cell_type": "markdown",
   "metadata": {
    "slideshow": {
     "slide_type": "slide"
    }
   },
   "source": [
    "## Important issues\n",
    "\n",
    "First, stability: This method was abandoned for a long time due to instability of the computation of the eignenvectors.\n",
    "\n",
    "The exact expression for the eigenvectors is  just\n",
    "\n",
    "$$(D - \\alpha_i I)^{-1}u,$$ where $\\alpha_i$ is the computed root."
   ]
  },
  {
   "cell_type": "markdown",
   "metadata": {
    "slideshow": {
     "slide_type": "slide"
    }
   },
   "source": [
    "## Lowner theorem\n",
    "\n",
    "The solution is by using a strange Lowner theorem:\n",
    "\n",
    "If $\\alpha_i$ and $d_i$ satisfy the **interlacing theorem** \n",
    "\n",
    "\n",
    "$$d_n < \\alpha_n < \\ldots < d_{i+1} < \\alpha_{i+1} \\ldots$$\n",
    "\n",
    "Then there exists a vector $\\widehat{u}$ such that $\\alpha_i$ are exact eigenvalues of the matrix\n",
    "\n",
    "$$\\widehat{D} = D + \\widehat{u} \\widehat{u}^*.$$\n",
    "\n",
    "So, you first compute the eigenvalues, then compute $\\widehat{u}$ and only then the eigenvectors."
   ]
  },
  {
   "cell_type": "markdown",
   "metadata": {
    "slideshow": {
     "slide_type": "slide"
    }
   },
   "source": [
    "## Divide and conquer and the Fast Multipole Method\n",
    "\n",
    "In the computations we have to evaluate the sums of the form\n",
    "\n",
    "$$f(\\lambda) = 1 + \\rho \\sum_{i=1}^n \\frac{|u_i|^2}{(d_i - \\lambda)},$$\n",
    "\n",
    "and have to do it at least for $n$ points. \n",
    "\n",
    "The complexity is then $\\mathcal{O}(n^2)$, as for the QR-algorithm.\n",
    "\n",
    "Can we make it $\\mathcal{O}(n \\log n)$? \n",
    "\n",
    "The answer is yes, but we have to replace the computations by the approximate ones\n",
    "\n",
    "by the help of **Fast Multipole Method**.\n",
    "\n",
    "I will do a short explanation on the whiteboard."
   ]
  },
  {
   "cell_type": "markdown",
   "metadata": {
    "slideshow": {
     "slide_type": "slide"
    }
   },
   "source": [
    "## Few more algorithms\n",
    "\n",
    "Absolutely different approach is based on the **bisection**.\n",
    "\n",
    "Given a matrix $A$ its inertia is defined as a triple $(\\nu, \\zeta, \\pi)$,  \n",
    "\n",
    "the number of negative, zero and positive eigenvalues. \n",
    "\n",
    "If $X$ is non-singular, then \n",
    "\n",
    "$$Inertia(A) = Inertia(X^* A X)$$"
   ]
  },
  {
   "cell_type": "markdown",
   "metadata": {
    "slideshow": {
     "slide_type": "slide"
    }
   },
   "source": [
    "## Bisection via Gaussian elimination\n",
    "\n",
    "Given $z$ we can do the Gaussian elimination:\n",
    "\n",
    "$$A - zI = L D L^*,$$\n",
    "\n",
    "and inertia of the diagonal matrix is trivial to compute.\n",
    "\n",
    "Thus, if we want to find all the eigenvalues in the interval $a$, $b$\n",
    "\n",
    "Using inertia, we can easily count the number of eigenvalues in an interval."
   ]
  },
  {
   "cell_type": "markdown",
   "metadata": {
    "slideshow": {
     "slide_type": "slide"
    }
   },
   "source": [
    "## Jacobi method\n",
    "\n",
    "Recall what a Jacobi (Givens rotations) are:\n",
    "\n",
    "In a plane they correspong to a $2 \\times 2$ orthogonal matrix of the form\n",
    "\n",
    "$$\\begin{pmatrix} \\cos \\phi & \\sin \\phi \\\\ -\\sin \\phi & \\cos \\phi \\end{pmatrix},$$\n",
    "\n",
    "and in the $n$-dimensional case we select two variables $i$ and $j$ and rotate."
   ]
  },
  {
   "cell_type": "markdown",
   "metadata": {
    "slideshow": {
     "slide_type": "slide"
    }
   },
   "source": [
    "## Jacobi method (cont.)\n",
    "\n",
    "The idea of the Jacobi method is to minimize\n",
    "\n",
    "$$\\mathrm{off}( U^* A U), $$\n",
    "\n",
    "by applying succesive Jacobi rotations to \"kill\" off-diagonal elements. \n",
    "\n",
    "When the \"pivot\" is chosen, it is easy to eliminate it. \n",
    "\n",
    "The main question is then what is the order of **sweeps** we have to make (i.e. in which order to eliminate).\n",
    "\n",
    "If we always eliminate the largest off-diagonal elements the method has quadratic convergence."
   ]
  },
  {
   "cell_type": "markdown",
   "metadata": {
    "slideshow": {
     "slide_type": "slide"
    }
   },
   "source": [
    "## Summary for this part\n",
    "- Many algorithms for the computation of the SEV solution (QR, Divide-and-conquer, bisection, Jacobi)"
   ]
  },
  {
   "cell_type": "markdown",
   "metadata": {
    "slideshow": {
     "slide_type": "slide"
    }
   },
   "source": [
    "## SVD\n",
    "\n",
    "Now we go to the applications of the SVD.\n",
    "\n",
    "SVD is extremely important in computational science and engineering.\n",
    "\n",
    "It has many names: Principal component analysis, Proper Orthogonal Decomposition, Empirical Orthogonal Functions\n",
    "\n",
    "We will consider:\n",
    "\n",
    "1. Latent semantic analysis\n",
    "2. Collaborative filtering\n",
    "3. Data compression"
   ]
  },
  {
   "cell_type": "markdown",
   "metadata": {
    "slideshow": {
     "slide_type": "slide"
    }
   },
   "source": [
    "## Application 1: Latent semantic analysis\n",
    "One of the most famous application is Latent semantic indexing, see, for example,  \n",
    "[Deerwester, Scott C., et al. \"Indexing by latent semantic analysis.\" (1990)](http://www.cob.unt.edu/itds/faculty/evangelopoulos/dsci5910/LSA_Deerwester1990.pdf)  \n",
    "\n",
    "The problem setup: we have a set of text documents $D_1, \\ldots, D_N.$ We want to solve the search problem: i.e., we have a query as a set of words, and we want to find the best documents.  \n",
    "Our data is processed as follows:  for each document we create a list of words contained in the document, and count the frequencies of each word. This is called the **bag of words** model (i.e., the document is unordered set of words).  "
   ]
  },
  {
   "cell_type": "markdown",
   "metadata": {
    "slideshow": {
     "slide_type": "slide"
    }
   },
   "source": [
    "## Term-document matrix\n",
    "This is how the term-document matrix $A$ is obtained. Its row size is **the size of the dictionary**.   \n",
    "Its column size is **the number of documents**.  An element $A_{ij}$ the the frequency of occurence of the $i$-th word in the $j$-document.\n",
    "\n",
    "To do the search, we can just multiply a term-documnt matrix by a **search vector**, i.e. a list of words."
   ]
  },
  {
   "cell_type": "markdown",
   "metadata": {
    "slideshow": {
     "slide_type": "fragment"
    }
   },
   "source": [
    "**The problem**: The document will be returned only if there is an exact word match.  However, we might search for \"Samuel Clemens\", and hope to get the results for \"Mark Twain\" as well.  But there might be no exact match!  \n",
    "How the SVD can help?"
   ]
  },
  {
   "cell_type": "markdown",
   "metadata": {
    "slideshow": {
     "slide_type": "slide"
    }
   },
   "source": [
    "## Idea of LSI\n",
    "Compute **low-rank approximation** $A_r$ of the term-document matrix $A$.  \n",
    "$$A \\approx A_r,$$\n",
    "and **we do not care about the approximation error** (i.e., we do not require it to be small).  \n",
    "The matrix $A_r$ can be then used to do queries.  \n",
    "\n",
    "We project the documents to **low-dimensional subspace**, given a query $q$ the projection is  \n",
    "$$q_r = \\Sigma^{-1}_r U^{\\top}_r q$$\n",
    "Now we can compute the similarity between $d_r$ and other projected documents  \n",
    "$$\\widehat{d}_i = \\Sigma^{-1}_r U^{\\top}_r d_i,$$\n",
    "and compute the **cosine** of the angles  between the query and the projected document."
   ]
  },
  {
   "cell_type": "markdown",
   "metadata": {
    "slideshow": {
     "slide_type": "slide"
    }
   },
   "source": [
    "## Demo\n",
    "Now we can test a demo database"
   ]
  },
  {
   "cell_type": "code",
   "execution_count": null,
   "metadata": {
    "collapsed": false,
    "slideshow": {
     "slide_type": "slide"
    }
   },
   "outputs": [],
   "source": [
    "import numpy as np\n",
    "import pandas as pd\n",
    "import re #Regular expressions\n",
    "rows = ['human', 'interface', 'computer', 'user', 'system', 'response', 'time', 'EPS', 'survey', 'trees', 'graph', 'minors']\n",
    "nterms = len(rows)\n",
    "docs = []\n",
    "docs += ['Human machine interface for Lab ABC computer applications']\n",
    "docs += ['A survey of user opinions of computer system response time']\n",
    "docs += ['The EPS user interfaces management system']\n",
    "docs += ['System and human system engineering testing of EPS']\n",
    "docs += ['Relation of user-perceived response time on user management']\n",
    "docs += ['The generation of random, binary, unordered trees']\n",
    "docs += ['The intersection graph of paths in trees']\n",
    "docs += ['Graph minors IV: Width of trees and well-quasi-ordering']\n",
    "docs += ['Graph minors: A survey']\n",
    "ndocs = len(docs)\n",
    "term_doc = np.zeros((nterms, ndocs))\n",
    "for i in xrange(nterms):\n",
    "    for j in xrange(ndocs):\n",
    "        if re.search(rows[i], docs[j], re.IGNORECASE):\n",
    "            term_doc[i, j] = 1\n",
    "#Use pandas to plot        \n",
    "pd.DataFrame(data=term_doc,index=rows)"
   ]
  },
  {
   "cell_type": "markdown",
   "metadata": {
    "slideshow": {
     "slide_type": "fragment"
    }
   },
   "source": [
    "Now we can compare the results between ordinary matvec and low-rank matvec."
   ]
  },
  {
   "cell_type": "code",
   "execution_count": null,
   "metadata": {
    "collapsed": false,
    "slideshow": {
     "slide_type": "slide"
    }
   },
   "outputs": [],
   "source": [
    "query = 'Human computer interaction'\n",
    "qv = np.zeros((nterms))\n",
    "for i in xrange(nterms):\n",
    "    if re.search(rows[i], query, re.IGNORECASE):\n",
    "        qv[i] = 1\n",
    "res1 = qv.dot(term_doc) #Non-compressed search result\n",
    "\n",
    "u, s, v = np.linalg.svd(term_doc)\n",
    "r = 2\n",
    "u = u[:, :r]\n",
    "s = s[:r]\n",
    "v = v[:r, :] #Numpy transposes\n",
    "appr1  = u.dot(np.diag(s)).dot(v)\n",
    "res2 = qv.dot(appr1)\n",
    "res_all = np.vstack((res1, res2)).T #To make two columns\n",
    "print 'There query is:', query, ',the scores are:'\n",
    "pd.DataFrame(res_all, index=docs, columns=['No SVD', 'SVD'])"
   ]
  },
  {
   "cell_type": "markdown",
   "metadata": {
    "slideshow": {
     "slide_type": "slide"
    }
   },
   "source": [
    "## Application 2: Collaborative filtering\n",
    "\n",
    "Another important (and similar) application comes from **recommender systems**.  \n",
    "\n",
    "Suppose you have a **user-product matrix**: each user puts a rating for a particular product.\n",
    "\n",
    "The matrix is then **the number of users times the number of products**. The goal is to recommend additional products to be bought for a particular user.  \n",
    "\n",
    "The scheme is the same: we compute the SVD, and the recommendation for each user is just a column of the approximated matrix."
   ]
  },
  {
   "cell_type": "code",
   "execution_count": null,
   "metadata": {
    "collapsed": true,
    "slideshow": {
     "slide_type": "slide"
    }
   },
   "outputs": [],
   "source": [
    "#Read the data\n",
    "data_read = np.loadtxt('task2_transact_eval.txt',dtype=np.int32, skiprows=1,delimiter='|')"
   ]
  },
  {
   "cell_type": "code",
   "execution_count": null,
   "metadata": {
    "collapsed": true,
    "slideshow": {
     "slide_type": "fragment"
    }
   },
   "outputs": [],
   "source": [
    "columns = ['SessionNo', 'ItemNo', 'TransType']\n",
    "ds = pd.DataFrame(data=data_read,columns=columns)"
   ]
  },
  {
   "cell_type": "code",
   "execution_count": null,
   "metadata": {
    "collapsed": false,
    "slideshow": {
     "slide_type": "fragment"
    }
   },
   "outputs": [],
   "source": [
    "from itertools import product\n",
    "ds_buy = ds[ds.TransType==2][['SessionNo', 'ItemNo']]\n",
    "users, inv_users = np.unique(data_read[:, 0], return_inverse=True)\n",
    "products, inv_products = np.unique(data_read[:, 1], return_inverse=True)\n",
    "print 'Unique sessions:', len(users), 'Unique products', len(products)\n",
    "#Scipy spars"
   ]
  },
  {
   "cell_type": "code",
   "execution_count": null,
   "metadata": {
    "collapsed": false,
    "slideshow": {
     "slide_type": "fragment"
    }
   },
   "outputs": [],
   "source": [
    "import scipy.sparse\n",
    "import scipy.sparse.linalg\n",
    "plt.xkcd()\n",
    "nnz = len(inv_users)\n",
    "spmat = scipy.sparse.coo_matrix((np.ones(nnz), (inv_users, inv_products)))\n",
    "r =  2#Approximation rank\n",
    "u, s, v = scipy.sparse.linalg.svds(spmat, r)\n",
    "n = spmat.shape[0]\n",
    "m = spmat.shape[1]\n",
    "q = np.zeros(n)\n",
    "user_id = 1\n",
    "q[user_id] = 1.0\n",
    "\n",
    "qrec = q.T.dot(u).dot(np.diag(s)).dot(v)\n",
    "qrec = qrec / np.max(abs(qrec))\n",
    "plt.plot(qrec)\n",
    "#qb = spmat.T.dot(q)\n",
    "#plt.plot(qb)\n",
    "plt.xlabel('Product ID')\n",
    "plt.ylabel('Recommendation')"
   ]
  },
  {
   "cell_type": "markdown",
   "metadata": {
    "slideshow": {
     "slide_type": "slide"
    }
   },
   "source": [
    "## Application 3: Dense matrix compression\n",
    "\n",
    "Dense matrices typically require $N^2$ elements to be stored. For $N \\sim 10^4 - 10^5$ the memory requirements. A low rank approximation can reduces this number of $\\mathcal{O}(Nr)$"
   ]
  },
  {
   "cell_type": "code",
   "execution_count": null,
   "metadata": {
    "collapsed": false,
    "slideshow": {
     "slide_type": "slide"
    }
   },
   "outputs": [],
   "source": [
    "import numpy as np\n",
    "%matplotlib inline\n",
    "import matplotlib.pyplot as plt\n",
    "plt.xkcd()\n",
    "n = 256\n",
    "a = [[1.0/(i + j + 0.5) for i in xrange(n)] for j in xrange(n)]\n",
    "a = np.array(a)\n",
    "u, s, v = np.linalg.svd(a)\n",
    "plt.semilogy(s/s[0])\n",
    "plt.title('Singular values decay for a Hilbert matrix')"
   ]
  },
  {
   "cell_type": "markdown",
   "metadata": {
    "slideshow": {
     "slide_type": "slide"
    }
   },
   "source": [
    "## A more realistic example\n",
    "We can try to test on a more realistic matrix, since solving linear systems with Hilbert matrix has little practical sense. Instead, we solve a linear system with a matrix\n",
    "$$A_{ij} = \\frac{1}{i - j + \\frac{1}{2}},$$\n",
    "which corresponds to an integral equation\n",
    "$$\n",
    "    \\int \\frac{q(y)dy}{x - y } = f(x).\n",
    "$$\n",
    "In real life, the equation  \n",
    "$$\n",
    "    \\int_{\\Omega} \\frac{q(y)dy}{\\Vert x - y\\Vert } = f(x),\n",
    "$$\n",
    "is solved, where $\\Omega$ is a surface in 3D. This is used, for example, in modelling integral circuits.\n",
    "Let us see what happens with the singular values."
   ]
  },
  {
   "cell_type": "code",
   "execution_count": null,
   "metadata": {
    "collapsed": false
   },
   "outputs": [],
   "source": [
    "import numpy as np\n",
    "import numpy as np\n",
    "%matplotlib inline\n",
    "import matplotlib.pyplot as plt\n",
    "plt.xkcd()\n",
    "n = 256\n",
    "a = [[1.0/(i - j + 0.5) for i in xrange(n)] for j in xrange(n)]\n",
    "a = np.array(a)\n",
    "u, s, v = np.linalg.svd(a)\n",
    "plt.plot(s)\n",
    "plt.title('Singular values decay for a Cauchy-Hilbert matrix')\n",
    "plt.tight_layout()"
   ]
  },
  {
   "cell_type": "markdown",
   "metadata": {
    "slideshow": {
     "slide_type": "slide"
    }
   },
   "source": [
    "What to do?  \n",
    "\n",
    "The idea is to break the matrix intro blocks  \n",
    "\n",
    "$$\n",
    "    A = \\begin{bmatrix}\n",
    "    A_{11} & A_{12} \\\\\n",
    "    A_{21} & A_{22}\n",
    "    \\end{bmatrix}\n",
    "$$\n",
    "\n",
    "and the blocks $A_{12}$ and $A_{21}$ will be of low-rank!  Let us try that.."
   ]
  },
  {
   "cell_type": "code",
   "execution_count": null,
   "metadata": {
    "collapsed": false,
    "slideshow": {
     "slide_type": "slide"
    }
   },
   "outputs": [],
   "source": [
    "import numpy as np\n",
    "import numpy as np\n",
    "%matplotlib inline\n",
    "import matplotlib.pyplot as plt\n",
    "plt.xkcd()\n",
    "n = 256\n",
    "a = [[1.0/(i - j + 0.5) for i in xrange(n)] for j in xrange(n)]\n",
    "a = np.array(a)\n",
    "\n",
    "a12 = a[:n/2,n/2:]\n",
    "a21 = a[n/2:,:n/2]\n",
    "s12 = np.linalg.svd(a12)[1]\n",
    "s21 = np.linalg.svd(a21)[1]\n",
    "plt.semilogy(s12)\n",
    "plt.semilogy(s21)#Actually, they are the same"
   ]
  },
  {
   "cell_type": "markdown",
   "metadata": {
    "slideshow": {
     "slide_type": "slide"
    }
   },
   "source": [
    "## Block-low rank matrices\n",
    "\n",
    "Surprisingly many matrices in PDEs can be well approximated by block-low-rank (other names: hierarchical, mosaic-skeleton) matrices.\n",
    "\n",
    "They have linear storage, but algorithms are not very **simple**"
   ]
  },
  {
   "cell_type": "markdown",
   "metadata": {
    "slideshow": {
     "slide_type": "slide"
    }
   },
   "source": [
    "## Summary of todays lecture\n",
    "\n",
    "- Algorithms for symmetric eigenvalue problems\n",
    "- Three applications of the SVD\n"
   ]
  },
  {
   "cell_type": "markdown",
   "metadata": {
    "slideshow": {
     "slide_type": "slide"
    }
   },
   "source": [
    "## Next lecture\n",
    "- Yes, test\n",
    "- We start **sparse and/or structured** NLA."
   ]
  },
  {
   "cell_type": "markdown",
   "metadata": {
    "slideshow": {
     "slide_type": "slide"
    }
   },
   "source": [
    "# Questions?"
   ]
  },
  {
   "cell_type": "code",
   "execution_count": 81,
   "metadata": {
    "collapsed": false,
    "slideshow": {
     "slide_type": "skip"
    }
   },
   "outputs": [
    {
     "data": {
      "text/html": [
       "<link href='http://fonts.googleapis.com/css?family=Fenix' rel='stylesheet' type='text/css'>\n",
       "<link href='http://fonts.googleapis.com/css?family=Alegreya+Sans:100,300,400,500,700,800,900,100italic,300italic,400italic,500italic,700italic,800italic,900italic' rel='stylesheet' type='text/css'>\n",
       "<link href='http://fonts.googleapis.com/css?family=Source+Code+Pro:300,400' rel='stylesheet' type='text/css'>\n",
       "<style>\n",
       "    @font-face {\n",
       "        font-family: \"Computer Modern\";\n",
       "        src: url('http://mirrors.ctan.org/fonts/cm-unicode/fonts/otf/cmunss.otf');\n",
       "    }\n",
       "    div.cell{\n",
       "        /*width:80%;*/\n",
       "        /*margin-left:auto !important;\n",
       "        margin-right:auto;*/\n",
       "    }\n",
       "    h1 {\n",
       "        font-family: 'Alegreya Sans', sans-serif;\n",
       "    }\n",
       "    h2 {\n",
       "        font-family: 'Fenix', serif;\n",
       "    }\n",
       "    h3{\n",
       "\t\tfont-family: 'Fenix', serif;\n",
       "        margin-top:12px;\n",
       "        margin-bottom: 3px;\n",
       "       }\n",
       "\th4{\n",
       "\t\tfont-family: 'Fenix', serif;\n",
       "       }\n",
       "    h5 {\n",
       "        font-family: 'Alegreya Sans', sans-serif;\n",
       "    }\t   \n",
       "    div.text_cell_render{\n",
       "        font-family: 'Alegreya Sans',Computer Modern, \"Helvetica Neue\", Arial, Helvetica, Geneva, sans-serif;\n",
       "        line-height: 1.2;\n",
       "        font-size: 120%;\n",
       "        /*width:70%;*/\n",
       "        /*margin-left:auto;*/\n",
       "        margin-right:auto;\n",
       "    }\n",
       "    .CodeMirror{\n",
       "            font-family: \"Source Code Pro\";\n",
       "\t\t\tfont-size: 90%;\n",
       "    }\n",
       "/*    .prompt{\n",
       "        display: None;\n",
       "    }*/\n",
       "    .text_cell_render h1 {\n",
       "        font-weight: 200;\n",
       "        font-size: 50pt;\n",
       "\t\tline-height: 110%;\n",
       "        color:#CD2305;\n",
       "        margin-bottom: 0.5em;\n",
       "        margin-top: 0.5em;\n",
       "        display: block;\n",
       "    }\t\n",
       "    .text_cell_render h5 {\n",
       "        font-weight: 300;\n",
       "        font-size: 16pt;\n",
       "        color: #CD2305;\n",
       "        font-style: italic;\n",
       "        margin-bottom: .5em;\n",
       "        margin-top: 0.5em;\n",
       "        display: block;\n",
       "    }\n",
       "    \n",
       "    li {\n",
       "        line-height: 110%;\n",
       "    }\n",
       "    .warning{\n",
       "        color: rgb( 240, 20, 20 )\n",
       "        }  \n",
       "</style>\n",
       "<script>\n",
       "    MathJax.Hub.Config({\n",
       "                        TeX: {\n",
       "                           extensions: [\"AMSmath.js\"]\n",
       "                           },\n",
       "                tex2jax: {\n",
       "                    inlineMath: [ ['$','$'], [\"\\\\(\",\"\\\\)\"] ],\n",
       "                    displayMath: [ ['$$','$$'], [\"\\\\[\",\"\\\\]\"] ]\n",
       "                },\n",
       "                displayAlign: 'center', // Change this to 'center' to center equations.\n",
       "                \"HTML-CSS\": {\n",
       "                    styles: {'.MathJax_Display': {\"margin\": 4}}\n",
       "                }\n",
       "        });\n",
       "</script>\n"
      ],
      "text/plain": [
       "<IPython.core.display.HTML object>"
      ]
     },
     "execution_count": 81,
     "metadata": {},
     "output_type": "execute_result"
    }
   ],
   "source": [
    "from IPython.core.display import HTML\n",
    "def css_styling():\n",
    "    styles = open(\"./styles/custom.css\", \"r\").read()\n",
    "    return HTML(styles)\n",
    "css_styling()"
   ]
  }
 ],
 "metadata": {
  "celltoolbar": "Slideshow",
  "kernelspec": {
   "display_name": "Python 2",
   "language": "python",
   "name": "python2"
  },
  "language_info": {
   "codemirror_mode": {
    "name": "ipython",
    "version": 2
   },
   "file_extension": ".py",
   "mimetype": "text/x-python",
   "name": "python",
   "nbconvert_exporter": "python",
   "pygments_lexer": "ipython2",
   "version": "2.7.10"
  }
 },
 "nbformat": 4,
 "nbformat_minor": 0
}
