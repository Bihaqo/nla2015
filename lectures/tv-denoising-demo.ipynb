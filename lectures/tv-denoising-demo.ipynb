{
 "cells": [
  {
   "cell_type": "markdown",
   "metadata": {
    "slideshow": {
     "slide_type": "slide"
    }
   },
   "source": [
    "## Total variation denoising\n",
    "Denoising using $L_1$-norm is often used. The model is simple. We have an image $x$ and it is corrupted by noise:\n",
    "$$\n",
    "  y = x + \\eta.\n",
    "$$\n",
    "We want to do noise removal.The number of unknowns is larger then the number of equations, thus we have to impose a structure on the solution. And it is a piecewise-smooth structure, which implies that the gradient $\\nabla x$ is sparse!  \n",
    "The **total variation** is a good measure:\n",
    "$$\n",
    "   TV(x) = \\Vert \\nabla x\\Vert_1\n",
    "$$\n",
    "and the minimization problem is\n",
    "$$\n",
    "  \\arg \\min\\Vert x - y \\Vert^2_2 + TV(y) \n",
    "$$\n",
    "is minimized. We use ``scikits.image`` module, which can be installed in Anaconda just as \n",
    "```\n",
    "conda install scikits-image\n",
    "```\n",
    "The example is adapted from [here](http://scikit-image.org/docs/dev/auto_examples/plot_denoise.html)"
   ]
  },
  {
   "cell_type": "code",
   "execution_count": null,
   "metadata": {
    "collapsed": false,
    "slideshow": {
     "slide_type": "slide"
    }
   },
   "outputs": [],
   "source": [
    "%matplotlib inline\n",
    "import numpy as np\n",
    "import scipy \n",
    "from scipy import ndimage\n",
    "import matplotlib.pyplot as plt\n",
    "from skimage import data, img_as_float\n",
    "from skimage.restoration import denoise_tv_chambolle, denoise_bilateral"
   ]
  },
  {
   "cell_type": "markdown",
   "metadata": {
    "slideshow": {
     "slide_type": "slide"
    }
   },
   "source": [
    "Load the data and add noise, plot the noisy data."
   ]
  },
  {
   "cell_type": "code",
   "execution_count": null,
   "metadata": {
    "collapsed": false,
    "slideshow": {
     "slide_type": "slide"
    }
   },
   "outputs": [],
   "source": [
    "plt.imshow(data.lena())"
   ]
  },
  {
   "cell_type": "code",
   "execution_count": null,
   "metadata": {
    "collapsed": false,
    "slideshow": {
     "slide_type": "slide"
    }
   },
   "outputs": [],
   "source": [
    "lena = img_as_float(data.lena())\n",
    "lena = lena[220:300, 220:320]\n",
    "\n",
    "noisy = lena + 0.6 * lena.std() * np.random.random(lena.shape)\n",
    "noisy = np.clip(noisy, 0, 1)\n",
    "plt.gray()\n",
    "plt.imshow(noisy)"
   ]
  },
  {
   "cell_type": "markdown",
   "metadata": {
    "slideshow": {
     "slide_type": "slide"
    }
   },
   "source": [
    "And apply magic to recover!"
   ]
  },
  {
   "cell_type": "code",
   "execution_count": null,
   "metadata": {
    "collapsed": false,
    "slideshow": {
     "slide_type": "slide"
    }
   },
   "outputs": [],
   "source": [
    "fig, ax = plt.subplots(nrows=1, ncols=2, figsize=(8, 5))\n",
    "ax[0].imshow(noisy)\n",
    "ax[0].axis('off')\n",
    "ax[0].set_title('noisy')\n",
    "ax[1].imshow(denoise_tv_chambolle(noisy, weight=0.1, multichannel=True))\n",
    "ax[1].axis('off')\n",
    "ax[1].set_title('TV')\n",
    "fig.subplots_adjust(wspace=0.02, hspace=0.2,\n",
    "                    top=0.9, bottom=0.05, left=0, right=1)"
   ]
  },
  {
   "cell_type": "markdown",
   "metadata": {
    "slideshow": {
     "slide_type": "slide"
    }
   },
   "source": [
    "We can also plot \"the gradient\", also called **Sobel filter**"
   ]
  },
  {
   "cell_type": "code",
   "execution_count": null,
   "metadata": {
    "collapsed": false,
    "slideshow": {
     "slide_type": "slide"
    }
   },
   "outputs": [],
   "source": [
    "from skimage import filters\n",
    "img_edges = filters.sobel(lena[:, :, 2])\n",
    "plt.imshow(img_edges) "
   ]
  },
  {
   "cell_type": "code",
   "execution_count": null,
   "metadata": {
    "collapsed": false,
    "slideshow": {
     "slide_type": "slide"
    }
   },
   "outputs": [],
   "source": [
    "from IPython.core.display import HTML\n",
    "def css_styling():\n",
    "    styles = open(\"./styles/custom.css\", \"r\").read()\n",
    "    return HTML(styles)\n",
    "css_styling()"
   ]
  },
  {
   "cell_type": "markdown",
   "metadata": {
    "slideshow": {
     "slide_type": "slide"
    }
   },
   "source": [
    "## Questions\n",
    "- What is going on? (we minimize   $\\arg \\min\\Vert x - y \\Vert^2_2 + TV(y)$)\n",
    "- Why $L_1$ norm and not $L_2$ norm?\n",
    "- How it is actually minimized?\n",
    "- Why $L_1$ norm promotes **sparsity**?\n"
   ]
  }
 ],
 "metadata": {
  "celltoolbar": "Slideshow",
  "kernelspec": {
   "display_name": "Python 2",
   "language": "python",
   "name": "python2"
  },
  "language_info": {
   "codemirror_mode": {
    "name": "ipython",
    "version": 2
   },
   "file_extension": ".py",
   "mimetype": "text/x-python",
   "name": "python",
   "nbconvert_exporter": "python",
   "pygments_lexer": "ipython2",
   "version": "2.7.10"
  }
 },
 "nbformat": 4,
 "nbformat_minor": 0
}
